{
 "cells": [
  {
   "cell_type": "markdown",
   "metadata": {},
   "source": [
    "# Calculando a pressão de vapor"
   ]
  },
  {
   "cell_type": "markdown",
   "metadata": {},
   "source": [
    "De acordo com o [artigo do grupo do professo Stephan Grimme](https://pubs.rsc.org/en/content/articlehtml/2022/em/d2em00271j), a pressão de vapor pode ser calculada usando a equação de Ben-Naimm."
   ]
  },
  {
   "cell_type": "markdown",
   "metadata": {},
   "source": [
    "\\begin{equation} P=\\frac{R\\times T\\times \\rho_{liq}}{MW}\\times exp\\left(\\frac{1}{R\\times T}\\times(\\overline{G^*}_{liq}-\\overline{G^*}_{vap})\\right) \\end{equation}\n",
    "  \n",
    "| Variável | Descrição | Unidade |\n",
    "|---|---|---|\n",
    "| P | pressão de vapor | Pascal (PA) |\n",
    "| R | constante dos gases | J/(mol*K) |\n",
    "| T | temperatura | K |\n",
    "| p_liq | densidade do líquido | kg/m^3 |\n",
    "| MW | massa molar | kg/mol |\n",
    "| G_liq | energia livre da fase líquida | J/mol |\n",
    "| G_vap | energia livre da fase vapor | J/mol |"
   ]
  },
  {
   "cell_type": "markdown",
   "metadata": {},
   "source": [
    "# Calculando a partir de um csv"
   ]
  },
  {
   "cell_type": "markdown",
   "metadata": {},
   "source": [
    "O input esperado para o programa é um arquivo no formato CSV com as seguintes colunas.\n",
    "  \n",
    "| Nome da coluna | Descrição | Unidade |\n",
    "|---|---|--|\n",
    "| Molecula | O nome da molécula | - |\n",
    "| Comentario | O comentário que você quiser adicionar | - |\n",
    "| R | constante dos gases | J/(mol*K) |\n",
    "| T | temperatura | K |\n",
    "| p_liq | densidade do líquido | kg/m^3 |\n",
    "| MW | massa molar | kg/mol |\n",
    "| G_vap | energia livre da fase vapor | Hartree |\n",
    "| G_liq | energia livre da fase líquida | Hartree |\n",
    "  \n",
    "* Os valores nas colunas `G_vap` e `G_liq` estão em Hartree, que é a unidade em que o CENSO retorna, ou seja, não precisa converter antes para J/mol, a conversão é feita durante a execução do programa.\n",
    "* Por padrão, o nome do arquivo que o programa procura é `values.csv`, mas isso você pode mudar abaixo na variável `input_file`."
   ]
  },
  {
   "cell_type": "markdown",
   "metadata": {},
   "source": [
    "O programa irá salvar um arquivo denominado `results.csv`, esse arquivo possui as mesmas colunas que o arquivo de entrada, com adição de mais duas colunas.\n",
    "  \n",
    "| Nome da coluna | Descrição | Unidade |\n",
    "|---|---|--|\n",
    "| PV | Pressão de vapor | Pascal (PA) |\n",
    "| log_PV | O log na base 10 da pressão de vapor | - |"
   ]
  },
  {
   "cell_type": "markdown",
   "metadata": {},
   "source": [
    "#### Importando as bibliotecas"
   ]
  },
  {
   "cell_type": "code",
   "execution_count": 1,
   "metadata": {},
   "outputs": [],
   "source": [
    "import pandas as pd\n",
    "import numpy as np"
   ]
  },
  {
   "cell_type": "markdown",
   "metadata": {},
   "source": [
    "#### Definindo as funções"
   ]
  },
  {
   "cell_type": "code",
   "execution_count": 23,
   "metadata": {},
   "outputs": [],
   "source": [
    "def hartree_to_j_mol(x):\n",
    "    \"\"\"\n",
    "    Convert Hartree to J/mol.\n",
    "    Args:\n",
    "        x: value in Hartree\n",
    "    Returns:\n",
    "        value in J/mol\n",
    "    \"\"\"\n",
    "    return x * 2625.5 * 1000\n",
    "\n",
    "def vapor_pressure(row):\n",
    "    \"\"\"\n",
    "    Calculate vapor pressure using the Ben-Naim equation of state.\n",
    "    Args:\n",
    "        R: gas constant (in J/(mol*K))\n",
    "        T: temperature (in K)\n",
    "        p_liq: liquid density (in kg/m^3)\n",
    "        MW: molecular weight (in kg/mol)\n",
    "        G_liq: free energy of liquid (in Hartree)\n",
    "        G_vap: free energy of vapor (in Hartree)\n",
    "    Returns:\n",
    "        vapor pressure (in Pa)\n",
    "    \"\"\"\n",
    "\n",
    "    R = float(row[\"R\"])\n",
    "    T = float(row[\"T\"])\n",
    "    p_liq = float(row[\"p_liq\"])\n",
    "    MW = float(row[\"MW\"])\n",
    "    G_liq = float(hartree_to_j_mol(row[\"G_liq\"]))\n",
    "    G_vap = float(hartree_to_j_mol(row[\"G_vap\"]))\n",
    "\n",
    "    a = (R * T * p_liq) / (MW)\n",
    "    b = np.exp((G_liq - G_vap) / (R * T))\n",
    "    return a * b\n",
    "\n",
    "def run(input_file, output_file):\n",
    "    \"\"\"\n",
    "    Run the calculation of vapor pressure.\n",
    "\n",
    "    Args:\n",
    "        input_file: path to the input file\n",
    "        output_file: path to the output file\n",
    "    Returns:\n",
    "        df: dataframe with the calculated vapor pressure\n",
    "    \"\"\"\n",
    "\n",
    "    # Open the file\n",
    "    df = pd.read_csv(input_file)\n",
    "    print(f\"* Arquivo de entrada {input_file} aberto com sucesso!\")\n",
    "\n",
    "    # Calculate vapor pressure\n",
    "    df[\"PV\"] = df.apply(vapor_pressure, axis=1)\n",
    "\n",
    "    # Calculate log of vapor pressure\n",
    "    df[\"log_PV\"] = np.log10(df[\"PV\"])\n",
    "    \n",
    "    print(\"* Pressão de vapor calculada com sucesso!\")\n",
    "\n",
    "    # Save the file\n",
    "    df.to_csv(output_file, index=False)\n",
    "    print(f\"* Arquivo de saída {output_file} que contém os resultados salvo com sucesso!\")\n",
    "\n",
    "    print(\"* Imprimindo as pressões de vapor calculadas!\")\n",
    "    display(df[[\"Molecula\", \"Comentario\", \"PV\", \"log_PV\"]].dropna(how=\"all\"))\n",
    "\n",
    "    print(f\"* obs: no arquivo {output_file} os valores estão salvos com todas as casas decimais.\")\n",
    "\n",
    "    return df.dropna(how=\"all\")"
   ]
  },
  {
   "cell_type": "markdown",
   "metadata": {},
   "source": [
    "#### Executando o programa"
   ]
  },
  {
   "cell_type": "code",
   "execution_count": 24,
   "metadata": {},
   "outputs": [
    {
     "name": "stdout",
     "output_type": "stream",
     "text": [
      "* Arquivo de entrada values.csv aberto com sucesso!\n",
      "* Pressão de vapor calculada com sucesso!\n",
      "* Arquivo de saída results.csv que contém os resultados salvo com sucesso!\n",
      "* Imprimindo as pressões de vapor calculadas!\n"
     ]
    },
    {
     "data": {
      "text/html": [
       "<div>\n",
       "<style scoped>\n",
       "    .dataframe tbody tr th:only-of-type {\n",
       "        vertical-align: middle;\n",
       "    }\n",
       "\n",
       "    .dataframe tbody tr th {\n",
       "        vertical-align: top;\n",
       "    }\n",
       "\n",
       "    .dataframe thead th {\n",
       "        text-align: right;\n",
       "    }\n",
       "</style>\n",
       "<table border=\"1\" class=\"dataframe\">\n",
       "  <thead>\n",
       "    <tr style=\"text-align: right;\">\n",
       "      <th></th>\n",
       "      <th>Molecula</th>\n",
       "      <th>Comentario</th>\n",
       "      <th>PV</th>\n",
       "      <th>log_PV</th>\n",
       "    </tr>\n",
       "  </thead>\n",
       "  <tbody>\n",
       "    <tr>\n",
       "      <th>0</th>\n",
       "      <td>GLY</td>\n",
       "      <td>NaN</td>\n",
       "      <td>0.016421</td>\n",
       "      <td>-1.784593</td>\n",
       "    </tr>\n",
       "    <tr>\n",
       "      <th>1</th>\n",
       "      <td>GLY_corr</td>\n",
       "      <td>NaN</td>\n",
       "      <td>0.019026</td>\n",
       "      <td>-1.720657</td>\n",
       "    </tr>\n",
       "    <tr>\n",
       "      <th>2</th>\n",
       "      <td>c10</td>\n",
       "      <td>NaN</td>\n",
       "      <td>300.013385</td>\n",
       "      <td>2.477141</td>\n",
       "    </tr>\n",
       "    <tr>\n",
       "      <th>3</th>\n",
       "      <td>c10_corr</td>\n",
       "      <td>NaN</td>\n",
       "      <td>293.103728</td>\n",
       "      <td>2.467021</td>\n",
       "    </tr>\n",
       "    <tr>\n",
       "      <th>4</th>\n",
       "      <td>nap</td>\n",
       "      <td>NaN</td>\n",
       "      <td>20.726263</td>\n",
       "      <td>1.316521</td>\n",
       "    </tr>\n",
       "    <tr>\n",
       "      <th>5</th>\n",
       "      <td>ABA</td>\n",
       "      <td>replicata 1</td>\n",
       "      <td>0.000009</td>\n",
       "      <td>-5.029158</td>\n",
       "    </tr>\n",
       "    <tr>\n",
       "      <th>6</th>\n",
       "      <td>ABA_corr</td>\n",
       "      <td>replicata 1</td>\n",
       "      <td>0.000012</td>\n",
       "      <td>-4.927919</td>\n",
       "    </tr>\n",
       "    <tr>\n",
       "      <th>7</th>\n",
       "      <td>ABA</td>\n",
       "      <td>replicata 2</td>\n",
       "      <td>0.000006</td>\n",
       "      <td>-5.227266</td>\n",
       "    </tr>\n",
       "    <tr>\n",
       "      <th>8</th>\n",
       "      <td>ABA_corr</td>\n",
       "      <td>replicata 2</td>\n",
       "      <td>0.000006</td>\n",
       "      <td>-5.193597</td>\n",
       "    </tr>\n",
       "    <tr>\n",
       "      <th>9</th>\n",
       "      <td>ABA</td>\n",
       "      <td>replicata 3</td>\n",
       "      <td>0.000008</td>\n",
       "      <td>-5.095716</td>\n",
       "    </tr>\n",
       "    <tr>\n",
       "      <th>10</th>\n",
       "      <td>ABA_corr</td>\n",
       "      <td>replicata 3</td>\n",
       "      <td>0.000008</td>\n",
       "      <td>-5.073407</td>\n",
       "    </tr>\n",
       "    <tr>\n",
       "      <th>11</th>\n",
       "      <td>DET</td>\n",
       "      <td>replicata 1</td>\n",
       "      <td>0.058687</td>\n",
       "      <td>-1.231457</td>\n",
       "    </tr>\n",
       "    <tr>\n",
       "      <th>12</th>\n",
       "      <td>DET_corr</td>\n",
       "      <td>replicata 1</td>\n",
       "      <td>0.051122</td>\n",
       "      <td>-1.291391</td>\n",
       "    </tr>\n",
       "    <tr>\n",
       "      <th>13</th>\n",
       "      <td>DIN</td>\n",
       "      <td>replicata 1</td>\n",
       "      <td>0.088240</td>\n",
       "      <td>-1.054335</td>\n",
       "    </tr>\n",
       "    <tr>\n",
       "      <th>14</th>\n",
       "      <td>DIN_corr</td>\n",
       "      <td>replicata 1</td>\n",
       "      <td>0.311587</td>\n",
       "      <td>-0.506421</td>\n",
       "    </tr>\n",
       "  </tbody>\n",
       "</table>\n",
       "</div>"
      ],
      "text/plain": [
       "    Molecula   Comentario          PV    log_PV\n",
       "0        GLY          NaN    0.016421 -1.784593\n",
       "1   GLY_corr          NaN    0.019026 -1.720657\n",
       "2        c10          NaN  300.013385  2.477141\n",
       "3   c10_corr          NaN  293.103728  2.467021\n",
       "4        nap          NaN   20.726263  1.316521\n",
       "5        ABA  replicata 1    0.000009 -5.029158\n",
       "6   ABA_corr  replicata 1    0.000012 -4.927919\n",
       "7        ABA  replicata 2    0.000006 -5.227266\n",
       "8   ABA_corr  replicata 2    0.000006 -5.193597\n",
       "9        ABA  replicata 3    0.000008 -5.095716\n",
       "10  ABA_corr  replicata 3    0.000008 -5.073407\n",
       "11       DET  replicata 1    0.058687 -1.231457\n",
       "12  DET_corr  replicata 1    0.051122 -1.291391\n",
       "13       DIN  replicata 1    0.088240 -1.054335\n",
       "14  DIN_corr  replicata 1    0.311587 -0.506421"
      ]
     },
     "metadata": {},
     "output_type": "display_data"
    },
    {
     "name": "stdout",
     "output_type": "stream",
     "text": [
      "* obs: no arquivo results.csv os valores estão salvos com todas as casas decimais.\n"
     ]
    }
   ],
   "source": [
    "# Define the input and output filename\n",
    "input_file = \"values.csv\"\n",
    "output_file = \"results.csv\"\n",
    "\n",
    "if __name__ == \"__main__\":\n",
    "    df = run(input_file=input_file, output_file=output_file)"
   ]
  },
  {
   "cell_type": "code",
   "execution_count": null,
   "metadata": {},
   "outputs": [],
   "source": []
  }
 ],
 "metadata": {
  "kernelspec": {
   "display_name": "Python 3",
   "language": "python",
   "name": "python3"
  },
  "language_info": {
   "codemirror_mode": {
    "name": "ipython",
    "version": 3
   },
   "file_extension": ".py",
   "mimetype": "text/x-python",
   "name": "python",
   "nbconvert_exporter": "python",
   "pygments_lexer": "ipython3",
   "version": "3.10.12"
  },
  "orig_nbformat": 4
 },
 "nbformat": 4,
 "nbformat_minor": 2
}
